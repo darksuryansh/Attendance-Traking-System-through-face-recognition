{
 "cells": [
  {
   "cell_type": "code",
   "execution_count": 1,
   "metadata": {},
   "outputs": [
    {
     "data": {
      "text/plain": [
       "True"
      ]
     },
     "execution_count": 1,
     "metadata": {},
     "output_type": "execute_result"
    }
   ],
   "source": [
    "import cv2\n",
    "import numpy as np\n",
    "\n",
    "# Load an image\n",
    "image = cv2.imread(\"dataset/person1/person1_1.jpg\")\n",
    "\n",
    "# Flip horizontally\n",
    "flipped_image = cv2.flip(image, 1)\n",
    "\n",
    "# Save the augmented image\n",
    "cv2.imwrite(\"dataset/person1/person1_1_flipped.jpg\", flipped_image)"
   ]
  },
  {
   "cell_type": "code",
   "execution_count": 2,
   "metadata": {},
   "outputs": [
    {
     "name": "stdout",
     "output_type": "stream",
     "text": [
      "Encodings for 5 faces loaded.\n"
     ]
    }
   ],
   "source": [
    "import pickle\n",
    "\n",
    "with open(\"face_encodings.pkl\", \"rb\") as f:\n",
    "    known_face_encodings, known_face_names = pickle.load(f)\n",
    "\n",
    "print(f\"Encodings for {len(known_face_names)} faces loaded.\")"
   ]
  }
 ],
 "metadata": {
  "kernelspec": {
   "display_name": "face_recognition_env",
   "language": "python",
   "name": "python3"
  },
  "language_info": {
   "codemirror_mode": {
    "name": "ipython",
    "version": 3
   },
   "file_extension": ".py",
   "mimetype": "text/x-python",
   "name": "python",
   "nbconvert_exporter": "python",
   "pygments_lexer": "ipython3",
   "version": "3.8.20"
  }
 },
 "nbformat": 4,
 "nbformat_minor": 2
}
